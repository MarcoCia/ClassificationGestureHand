{
  "nbformat": 4,
  "nbformat_minor": 0,
  "metadata": {
    "kernelspec": {
      "name": "python3",
      "display_name": "Python 3"
    },
    "language_info": {
      "codemirror_mode": {
        "name": "ipython",
        "version": 3
      },
      "file_extension": ".py",
      "mimetype": "text/x-python",
      "name": "python",
      "nbconvert_exporter": "python",
      "pygments_lexer": "ipython3",
      "version": "3.7.2"
    },
    "colab": {
      "name": "CNNgesti.ipynb",
      "provenance": [],
      "collapsed_sections": []
    },
    "accelerator": "GPU"
  },
  "cells": [
    {
      "cell_type": "code",
      "metadata": {
        "id": "4VNVfPmAhyv1",
        "colab_type": "code",
        "outputId": "d402cdda-8bcf-4f23-d5b3-85b5e92f2a9e",
        "colab": {
          "base_uri": "https://localhost:8080/",
          "height": 287
        }
      },
      "source": [
        "import tensorflow as tf\n",
        "import tflearn\n",
        "from tflearn.layers.conv import conv_2d,max_pool_2d\n",
        "from tflearn.layers.core import input_data,dropout,fully_connected\n",
        "from tflearn.layers.estimator import regression\n",
        "import numpy as np\n",
        "import cv2\n",
        "from sklearn.utils import shuffle"
      ],
      "execution_count": 0,
      "outputs": [
        {
          "output_type": "display_data",
          "data": {
            "text/html": [
              "<p style=\"color: red;\">\n",
              "The default version of TensorFlow in Colab will soon switch to TensorFlow 2.x.<br>\n",
              "We recommend you <a href=\"https://www.tensorflow.org/guide/migrate\" target=\"_blank\">upgrade</a> now \n",
              "or ensure your notebook will continue to use TensorFlow 1.x via the <code>%tensorflow_version 1.x</code> magic:\n",
              "<a href=\"https://colab.research.google.com/notebooks/tensorflow_version.ipynb\" target=\"_blank\">more info</a>.</p>\n"
            ],
            "text/plain": [
              "<IPython.core.display.HTML object>"
            ]
          },
          "metadata": {
            "tags": []
          }
        },
        {
          "output_type": "stream",
          "text": [
            "WARNING:tensorflow:From /usr/local/lib/python3.6/dist-packages/tflearn/helpers/summarizer.py:9: The name tf.summary.merge is deprecated. Please use tf.compat.v1.summary.merge instead.\n",
            "\n",
            "WARNING:tensorflow:From /usr/local/lib/python3.6/dist-packages/tflearn/helpers/trainer.py:25: The name tf.summary.FileWriter is deprecated. Please use tf.compat.v1.summary.FileWriter instead.\n",
            "\n",
            "WARNING:tensorflow:From /usr/local/lib/python3.6/dist-packages/tflearn/collections.py:13: The name tf.GraphKeys is deprecated. Please use tf.compat.v1.GraphKeys instead.\n",
            "\n",
            "WARNING:tensorflow:From /usr/local/lib/python3.6/dist-packages/tflearn/config.py:123: The name tf.get_collection is deprecated. Please use tf.compat.v1.get_collection instead.\n",
            "\n",
            "WARNING:tensorflow:From /usr/local/lib/python3.6/dist-packages/tflearn/config.py:129: The name tf.add_to_collection is deprecated. Please use tf.compat.v1.add_to_collection instead.\n",
            "\n",
            "WARNING:tensorflow:From /usr/local/lib/python3.6/dist-packages/tflearn/config.py:131: The name tf.assign is deprecated. Please use tf.compat.v1.assign instead.\n",
            "\n"
          ],
          "name": "stdout"
        }
      ]
    },
    {
      "cell_type": "code",
      "metadata": {
        "id": "24YZt-kbiItF",
        "colab_type": "code",
        "colab": {}
      },
      "source": [
        "#Unzip de dataset contains images\n",
        "import zipfile\n",
        "with zipfile.ZipFile('Dataset.zip', 'r') as zip_ref:\n",
        "    zip_ref.extractall()"
      ],
      "execution_count": 0,
      "outputs": []
    },
    {
      "cell_type": "code",
      "metadata": {
        "id": "yKTXZzx1hyv6",
        "colab_type": "code",
        "colab": {}
      },
      "source": [
        "#We have 3000 images, 1000 for each gestures.\n",
        "#Load Images  Swing\n",
        "loadedImages = []\n",
        "for i in range(0, 1000):\n",
        "    image = cv2.imread('Dataset/SwingImages/swing_' + str(i) + '.png')\n",
        "    gray_image = cv2.cvtColor(image, cv2.COLOR_BGR2GRAY)\n",
        "    loadedImages.append(gray_image.reshape(89, 100, 1))\n",
        "\n",
        "#Load Images  Palm\n",
        "for i in range(0, 1000):\n",
        "    image = cv2.imread('Dataset/PalmImages/palm_' + str(i) + '.png')\n",
        "    gray_image = cv2.cvtColor(image, cv2.COLOR_BGR2GRAY)\n",
        "    loadedImages.append(gray_image.reshape(89, 100, 1))\n",
        "    \n",
        "#Load Images  Fist\n",
        "for i in range(0, 1000):\n",
        "    image = cv2.imread('Dataset/FistImages/fist_' + str(i) + '.png')\n",
        "    gray_image = cv2.cvtColor(image, cv2.COLOR_BGR2GRAY)\n",
        "    loadedImages.append(gray_image.reshape(89, 100, 1))\n"
      ],
      "execution_count": 0,
      "outputs": []
    },
    {
      "cell_type": "code",
      "metadata": {
        "id": "vQzS925Mhyv9",
        "colab_type": "code",
        "colab": {}
      },
      "source": [
        "# Create OutputVector\n",
        "\n",
        "outputVectors = []\n",
        "for i in range(0, 1000):\n",
        "    outputVectors.append([1, 0, 0])\n",
        "\n",
        "for i in range(0, 1000):\n",
        "    outputVectors.append([0, 1, 0])\n",
        "\n",
        "for i in range(0, 1000):\n",
        "    outputVectors.append([0, 0, 1])\n"
      ],
      "execution_count": 0,
      "outputs": []
    },
    {
      "cell_type": "code",
      "metadata": {
        "id": "GTBoqsqChywA",
        "colab_type": "code",
        "colab": {}
      },
      "source": [
        "#We have 100 images for test for each gestures\n",
        "testImages = []\n",
        "\n",
        "#Load Images for swing\n",
        "for i in range(0, 100):\n",
        "    image = cv2.imread('Dataset/SwingTest/swing_' + str(i) + '.png')\n",
        "    gray_image = cv2.cvtColor(image, cv2.COLOR_BGR2GRAY)\n",
        "    testImages.append(gray_image.reshape(89, 100, 1))\n",
        "\n",
        "#Load Images for Palm\n",
        "for i in range(0, 100):\n",
        "    image = cv2.imread('Dataset/PalmTest/palm_' + str(i) + '.png')\n",
        "    gray_image = cv2.cvtColor(image, cv2.COLOR_BGR2GRAY)\n",
        "    testImages.append(gray_image.reshape(89, 100, 1))\n",
        "    \n",
        "#Load Images for Fist\n",
        "for i in range(0, 100):\n",
        "    image = cv2.imread('Dataset/FistTest/fist_' + str(i) + '.png')\n",
        "    gray_image = cv2.cvtColor(image, cv2.COLOR_BGR2GRAY)\n",
        "    testImages.append(gray_image.reshape(89, 100, 1))\n",
        "\n",
        "#Create Label for all 300 gestures for test\n",
        "testLabels = []\n",
        "#The first 100 are SWING gesture\n",
        "for i in range(0, 100):\n",
        "    testLabels.append([1, 0, 0])\n",
        "#The second 100 gestures are PALM gesture\n",
        "for i in range(0, 100):\n",
        "    testLabels.append([0, 1, 0])\n",
        "#The last 100 gestures are FIRST gesture\n",
        "for i in range(0, 100):\n",
        "    testLabels.append([0, 0, 1])"
      ],
      "execution_count": 0,
      "outputs": []
    },
    {
      "cell_type": "markdown",
      "metadata": {
        "id": "yst-PB6fmHkN",
        "colab_type": "text"
      },
      "source": [
        "The network contains **7** hidden convolution layers with **Relu** as the activation function and **1** Fully connected layer.\n",
        "\n",
        "The network is trained across **50** iterations with a batch size of **64**.\n",
        "\n",
        "I kind of saw that 50 iterations kind of trains the model well and there is no increase in validation accuracy along the lines so that should be enough.\n",
        "\n",
        "\n",
        "The ratio of training set to validation set is **1000 : 100**."
      ]
    },
    {
      "cell_type": "code",
      "metadata": {
        "id": "EBiSYWDShywC",
        "colab_type": "code",
        "outputId": "cb7d0e9a-ca4b-4d94-a699-f9ba17ad56de",
        "colab": {
          "base_uri": "https://localhost:8080/",
          "height": 819
        }
      },
      "source": [
        "# Define the CNN Model\n",
        "tf.reset_default_graph()\n",
        "convnet=input_data(shape=[None,89,100,1],name='input')\n",
        "convnet=conv_2d(convnet,32,2,activation='relu')\n",
        "convnet=max_pool_2d(convnet,2)\n",
        "convnet=conv_2d(convnet,64,2,activation='relu')\n",
        "convnet=max_pool_2d(convnet,2)\n",
        "\n",
        "convnet=conv_2d(convnet,128,2,activation='relu')\n",
        "convnet=max_pool_2d(convnet,2)\n",
        "\n",
        "convnet=conv_2d(convnet,256,2,activation='relu')\n",
        "convnet=max_pool_2d(convnet,2)\n",
        "\n",
        "convnet=conv_2d(convnet,256,2,activation='relu')\n",
        "convnet=max_pool_2d(convnet,2)\n",
        "\n",
        "convnet=conv_2d(convnet,128,2,activation='relu')\n",
        "convnet=max_pool_2d(convnet,2)\n",
        "\n",
        "convnet=conv_2d(convnet,64,2,activation='relu')\n",
        "convnet=max_pool_2d(convnet,2)\n",
        "\n",
        "convnet=fully_connected(convnet,1000,activation='relu')\n",
        "convnet=dropout(convnet,0.75)\n",
        "\n",
        "convnet=fully_connected(convnet,3,activation='softmax')\n",
        "\n",
        "convnet=regression(convnet,optimizer='adam',learning_rate=0.001,loss='categorical_crossentropy',name='regression')\n",
        "\n",
        "model=tflearn.DNN(convnet,tensorboard_verbose=0)\n"
      ],
      "execution_count": 0,
      "outputs": [
        {
          "output_type": "stream",
          "text": [
            "WARNING:tensorflow:From /usr/local/lib/python3.6/dist-packages/tflearn/layers/core.py:81: The name tf.placeholder is deprecated. Please use tf.compat.v1.placeholder instead.\n",
            "\n",
            "WARNING:tensorflow:From /usr/local/lib/python3.6/dist-packages/tflearn/layers/conv.py:73: The name tf.variable_scope is deprecated. Please use tf.compat.v1.variable_scope instead.\n",
            "\n",
            "WARNING:tensorflow:From /usr/local/lib/python3.6/dist-packages/tflearn/initializations.py:119: calling UniformUnitScaling.__init__ (from tensorflow.python.ops.init_ops) with dtype is deprecated and will be removed in a future version.\n",
            "Instructions for updating:\n",
            "Call initializer instance with the dtype argument instead of passing it to the constructor\n",
            "WARNING:tensorflow:From /usr/local/lib/python3.6/dist-packages/tensorflow_core/python/util/deprecation.py:507: UniformUnitScaling.__init__ (from tensorflow.python.ops.init_ops) is deprecated and will be removed in a future version.\n",
            "Instructions for updating:\n",
            "Use tf.initializers.variance_scaling instead with distribution=uniform to get equivalent behavior.\n",
            "WARNING:tensorflow:From /usr/local/lib/python3.6/dist-packages/tflearn/layers/conv.py:552: The name tf.nn.max_pool is deprecated. Please use tf.nn.max_pool2d instead.\n",
            "\n",
            "WARNING:tensorflow:From /usr/local/lib/python3.6/dist-packages/tflearn/initializations.py:174: calling TruncatedNormal.__init__ (from tensorflow.python.ops.init_ops) with dtype is deprecated and will be removed in a future version.\n",
            "Instructions for updating:\n",
            "Call initializer instance with the dtype argument instead of passing it to the constructor\n",
            "WARNING:tensorflow:From /usr/local/lib/python3.6/dist-packages/tflearn/layers/core.py:239: calling dropout (from tensorflow.python.ops.nn_ops) with keep_prob is deprecated and will be removed in a future version.\n",
            "Instructions for updating:\n",
            "Please use `rate` instead of `keep_prob`. Rate should be set to `rate = 1 - keep_prob`.\n",
            "WARNING:tensorflow:From /usr/local/lib/python3.6/dist-packages/tflearn/optimizers.py:238: The name tf.train.AdamOptimizer is deprecated. Please use tf.compat.v1.train.AdamOptimizer instead.\n",
            "\n",
            "WARNING:tensorflow:From /usr/local/lib/python3.6/dist-packages/tflearn/objectives.py:66: calling reduce_sum_v1 (from tensorflow.python.ops.math_ops) with keep_dims is deprecated and will be removed in a future version.\n",
            "Instructions for updating:\n",
            "keep_dims is deprecated, use keepdims instead\n",
            "WARNING:tensorflow:From /usr/local/lib/python3.6/dist-packages/tflearn/objectives.py:70: The name tf.log is deprecated. Please use tf.math.log instead.\n",
            "\n",
            "WARNING:tensorflow:From /usr/local/lib/python3.6/dist-packages/tflearn/layers/estimator.py:189: The name tf.trainable_variables is deprecated. Please use tf.compat.v1.trainable_variables instead.\n",
            "\n",
            "WARNING:tensorflow:From /usr/local/lib/python3.6/dist-packages/tflearn/helpers/trainer.py:571: The name tf.get_default_graph is deprecated. Please use tf.compat.v1.get_default_graph instead.\n",
            "\n",
            "WARNING:tensorflow:From /usr/local/lib/python3.6/dist-packages/tflearn/helpers/trainer.py:115: The name tf.Session is deprecated. Please use tf.compat.v1.Session instead.\n",
            "\n",
            "WARNING:tensorflow:From /usr/local/lib/python3.6/dist-packages/tflearn/summaries.py:46: The name tf.summary.scalar is deprecated. Please use tf.compat.v1.summary.scalar instead.\n",
            "\n",
            "WARNING:tensorflow:From /usr/local/lib/python3.6/dist-packages/tensorflow_core/python/ops/math_grad.py:1424: where (from tensorflow.python.ops.array_ops) is deprecated and will be removed in a future version.\n",
            "Instructions for updating:\n",
            "Use tf.where in 2.0, which has the same broadcast rule as np.where\n",
            "WARNING:tensorflow:From /usr/local/lib/python3.6/dist-packages/tflearn/helpers/trainer.py:134: The name tf.train.Saver is deprecated. Please use tf.compat.v1.train.Saver instead.\n",
            "\n",
            "WARNING:tensorflow:From /usr/local/lib/python3.6/dist-packages/tflearn/helpers/trainer.py:164: The name tf.global_variables_initializer is deprecated. Please use tf.compat.v1.global_variables_initializer instead.\n",
            "\n",
            "WARNING:tensorflow:From /usr/local/lib/python3.6/dist-packages/tflearn/helpers/trainer.py:165: The name tf.local_variables_initializer is deprecated. Please use tf.compat.v1.local_variables_initializer instead.\n",
            "\n",
            "WARNING:tensorflow:From /usr/local/lib/python3.6/dist-packages/tflearn/helpers/trainer.py:166: The name tf.variables_initializer is deprecated. Please use tf.compat.v1.variables_initializer instead.\n",
            "\n",
            "WARNING:tensorflow:From /usr/local/lib/python3.6/dist-packages/tflearn/helpers/trainer.py:167: The name tf.get_collection_ref is deprecated. Please use tf.compat.v1.get_collection_ref instead.\n",
            "\n"
          ],
          "name": "stdout"
        }
      ]
    },
    {
      "cell_type": "code",
      "metadata": {
        "id": "M0QmDLSLhywE",
        "colab_type": "code",
        "outputId": "ac90f307-1e1c-488e-c0ca-d854eb0db308",
        "colab": {
          "base_uri": "https://localhost:8080/",
          "height": 119
        }
      },
      "source": [
        "# Shuffle Training Data\n",
        "loadedImages, outputVectors = shuffle(loadedImages, outputVectors, random_state=0)\n",
        "\n",
        "# Train model\n",
        "model.fit(loadedImages, outputVectors, n_epoch=50,\n",
        "           validation_set = (testImages, testLabels),\n",
        "           snapshot_step=100, show_metric=True, run_id='convnet_coursera')\n",
        "\n",
        "model.save(\"TrainedModel/GestureRecogModel.tfl\")"
      ],
      "execution_count": 0,
      "outputs": [
        {
          "output_type": "stream",
          "text": [
            "Training Step: 2349  | total loss: \u001b[1m\u001b[32m0.00000\u001b[0m\u001b[0m | time: 1.150s\n",
            "| Adam | epoch: 050 | loss: 0.00000 - acc: 1.0000 -- iter: 2944/3000\n",
            "Training Step: 2350  | total loss: \u001b[1m\u001b[32m0.00000\u001b[0m\u001b[0m | time: 2.178s\n",
            "| Adam | epoch: 050 | loss: 0.00000 - acc: 1.0000 | val_loss: 0.44040 - val_acc: 0.9233 -- iter: 3000/3000\n",
            "--\n",
            "INFO:tensorflow:/content/TrainedModel/GestureRecogModel.tfl is not in all_model_checkpoint_paths. Manually adding it.\n"
          ],
          "name": "stdout"
        }
      ]
    },
    {
      "cell_type": "code",
      "metadata": {
        "id": "g-CXVS0LhywH",
        "colab_type": "code",
        "colab": {}
      },
      "source": [
        ""
      ],
      "execution_count": 0,
      "outputs": []
    }
  ]
}